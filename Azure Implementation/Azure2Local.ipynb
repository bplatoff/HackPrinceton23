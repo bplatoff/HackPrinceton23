{
 "cells": [
  {
   "cell_type": "code",
   "execution_count": 1,
   "metadata": {},
   "outputs": [
    {
     "name": "stdout",
     "output_type": "stream",
     "text": [
      "Waiting for messages. Press Stop button to exit.\n"
     ]
    },
    {
     "name": "stderr",
     "output_type": "stream",
     "text": [
      "Exception caught in background thread.  Unable to handle.\n",
      "['azure.iot.device.common.transport_exceptions.ConnectionDroppedError: Unexpected disconnection\\n']\n",
      "Exception caught in background thread.  Unable to handle.\n",
      "['azure.iot.device.common.transport_exceptions.ConnectionDroppedError: Unexpected disconnection\\n']\n",
      "Exception caught in background thread.  Unable to handle.\n",
      "['azure.iot.device.common.transport_exceptions.ConnectionDroppedError: Unexpected disconnection\\n']\n"
     ]
    },
    {
     "name": "stdout",
     "output_type": "stream",
     "text": [
      "IoTHubClient sample stopped\n"
     ]
    }
   ],
   "source": [
    "from azure.iot.device import IoTHubDeviceClient, Message\n",
    "import time\n",
    "\n",
    "CONNECTION_STRING = \"HostName=CropManagementSystem.azure-devices.net;DeviceId=RaspberryPI;SharedAccessKey=d5zKts5ijw3nmwXvElrCS/7589NKi0Y7CAIoTJm7AYU=\"\n",
    "\n",
    "def message_listener(message):\n",
    "    print(\"Received message from IoT Hub:\")\n",
    "    print(message.data)\n",
    "    print(\"Custom properties:\")\n",
    "    print(message.custom_properties)\n",
    "\n",
    "def iothub_receive_messages():\n",
    "    try:\n",
    "        client = IoTHubDeviceClient.create_from_connection_string(CONNECTION_STRING, keep_alive_interval=30)\n",
    "        client.on_message_received = message_listener\n",
    "\n",
    "        print(\"Waiting for messages. Press Stop button to exit.\")\n",
    "        client.connect()\n",
    "\n",
    "        while True:\n",
    "            time.sleep(1)\n",
    "\n",
    "    except KeyboardInterrupt:\n",
    "        print(\"IoTHubClient sample stopped\")\n",
    "        client.disconnect()\n",
    "\n",
    "iothub_receive_messages()\n"
   ]
  }
 ],
 "metadata": {
  "kernelspec": {
   "display_name": "deepLearningCuda11-OpenAI",
   "language": "python",
   "name": "python3"
  },
  "language_info": {
   "codemirror_mode": {
    "name": "ipython",
    "version": 3
   },
   "file_extension": ".py",
   "mimetype": "text/x-python",
   "name": "python",
   "nbconvert_exporter": "python",
   "pygments_lexer": "ipython3",
   "version": "3.7.11"
  }
 },
 "nbformat": 4,
 "nbformat_minor": 2
}
